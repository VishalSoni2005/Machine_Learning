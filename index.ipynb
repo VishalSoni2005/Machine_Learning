{
 "cells": [
  {
   "cell_type": "code",
   "execution_count": 1,
   "id": "e864c4fe-f810-4582-aadd-b08766fc0534",
   "metadata": {},
   "outputs": [
    {
     "name": "stdout",
     "output_type": "stream",
     "text": [
      "helo\n"
     ]
    }
   ],
   "source": [
    "print(\"helo\")"
   ]
  },
  {
   "cell_type": "code",
   "execution_count": null,
   "id": "f84e0fb4-1443-4d5b-aed1-3ff0aadfeece",
   "metadata": {},
   "outputs": [],
   "source": []
  },
  {
   "cell_type": "code",
   "execution_count": 2,
   "id": "9ed97c79-1d17-467b-92fd-95d4978ebbfc",
   "metadata": {},
   "outputs": [
    {
     "name": "stdout",
     "output_type": "stream",
     "text": [
      "Arr1 multiplication ;  [1, 2, 3, 1, 2, 3]\n",
      "Arr2 NP mult :  [2 4 6]\n"
     ]
    }
   ],
   "source": [
    "import numpy as np\n",
    "arr1 = [1, 2, 3]\n",
    "print(\"Arr1 multiplication ; \", arr1 * 2)\n",
    "\n",
    "arr2 = np.array([1, 2, 3])\n",
    "print(\"Arr2 NP mult : \", arr2 * 2)"
   ]
  },
  {
   "cell_type": "code",
   "execution_count": 17,
   "id": "af56d58d-be0e-4148-9fe6-392b3e1d9e7e",
   "metadata": {},
   "outputs": [
    {
     "name": "stdout",
     "output_type": "stream",
     "text": [
      "[[8 8 8 8 8 8 8 8 8]\n",
      " [8 8 8 8 8 8 8 8 8]\n",
      " [8 8 8 8 8 8 8 8 8]]\n",
      "[[3 3 3 3 3 3]\n",
      " [3 3 3 3 3 3]\n",
      " [3 3 3 3 3 3]\n",
      " [3 3 3 3 3 3]\n",
      " [3 3 3 3 3 3]\n",
      " [3 3 3 3 3 3]\n",
      " [3 3 3 3 3 3]\n",
      " [3 3 3 3 3 3]\n",
      " [3 3 3 3 3 3]]\n",
      "[[216 216 216 216 216 216]\n",
      " [216 216 216 216 216 216]\n",
      " [216 216 216 216 216 216]]\n"
     ]
    }
   ],
   "source": [
    "\n",
    "nums1 = np.full((3, 9), 8)\n",
    "print(nums1)\n",
    "\n",
    "nums2 = np.full((9, 6), 3)\n",
    "print(nums2)\n",
    "\n",
    "result = nums1 @ nums2  # shape (3, 6)\n",
    "print(result)\n"
   ]
  },
  {
   "cell_type": "code",
   "execution_count": null,
   "id": "73138071-8b58-4f79-907f-22fb94a95ee3",
   "metadata": {},
   "outputs": [],
   "source": []
  },
  {
   "cell_type": "code",
   "execution_count": null,
   "id": "49a16475-15dd-4054-bd0b-3827f838ee5d",
   "metadata": {},
   "outputs": [],
   "source": []
  },
  {
   "cell_type": "code",
   "execution_count": null,
   "id": "2b6a0d6e-c595-42d8-acaf-8f6aaf06a7e8",
   "metadata": {},
   "outputs": [],
   "source": []
  }
 ],
 "metadata": {
  "kernelspec": {
   "display_name": "Python 3 (ipykernel)",
   "language": "python",
   "name": "python3"
  },
  "language_info": {
   "codemirror_mode": {
    "name": "ipython",
    "version": 3
   },
   "file_extension": ".py",
   "mimetype": "text/x-python",
   "name": "python",
   "nbconvert_exporter": "python",
   "pygments_lexer": "ipython3",
   "version": "3.12.3"
  }
 },
 "nbformat": 4,
 "nbformat_minor": 5
}
