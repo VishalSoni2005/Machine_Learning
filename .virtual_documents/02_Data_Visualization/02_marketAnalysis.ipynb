import matplotlib.pyplot as plt
import pandas as pd

df = pd.read_csv("../Datasets/nifty50_1year.csv")
# df


# df.describe()
# df.info()





pd.to_datetime(df["Date "], format="%d-%b-%Y")
df["MA7"] = df["Close "].rolling(window=7).mean()
df["MA30"] = df["Close "].rolling(window=30).mean()
# df.tail(8)
df.info()


plt.figure(figsize=(14, 7))

# plt.style.use("dark_background")

plt.plot(df["Date "], df["Close "], label="Close Price", color="blue", linewidth=1.5)
plt.plot(df["Date "], df["MA7"], color="red", label="MA7", linewidth=2)
plt.plot(df["Date "], df["MA30"], color="green", label="MA30", linewidth=2)
# # Labels & Title
plt.title("Nifty 50 Closing Price with 7-day & 30-day Moving Average", fontsize=16)
plt.xlabel("Date")
plt.ylabel("Price")
plt.legend()  # above box showing line %colors
plt.grid(True)
plt.show()





# three_month_data = df[['Date ', 'High ', 'Low ', 'Open ', 'Close ']].apply(lambda x : x in )

three_month_data = df[
    pd.to_datetime(df["Date "]).between(
        pd.to_datetime("8-MAY-2025"), pd.to_datetime("8-AUG-2025")
    )
][["Date ", "High ", "Low ", "Open ", "Close "]]
three_month_data

three_month_data.plot(
    x="Date ",  # Your date column (with space)
    y=["High ", "Low ", "Open ", "Close "],  # Columns to plot
    color=["red", "green", "aqua", "black"],
    kind="bar",
    figsize=(12, 4),
    title="High and Low Prices by Date",
)
plt.ylabel("Price")
# plt.xticks(rotation=45)
plt.legend()
plt.tight_layout()
plt.show()





# Create figure and axis
fig, ax1 = plt.subplots(figsize=(14, 6))

# Plot Closing Price (left axis)
ax1.set_xlabel('Date ')
ax1.set_ylabel('Close Price', color='blue')
ax1.plot(df['Date '], df['Close '], color='blue', label='Close Price', linewidth=1.5)
ax1.tick_params(axis='y', labelcolor='blue')

# Create right axis for volume
ax2 = ax1.twinx()
ax2.set_ylabel('Shares Traded ', color='orange')
ax2.bar(df['Date '], df['Shares Traded '], color='orange', alpha=0.4, label='Shares Traded')
ax2.tick_params(axis='y', labelcolor='orange')

# Title & layout
fig.suptitle('Nifty 50: Close Price vs. Shares Traded', fontsize=16)
fig.tight_layout()
plt.show()



df












