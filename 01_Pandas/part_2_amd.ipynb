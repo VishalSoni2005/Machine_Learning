{
 "cells": [
  {
   "cell_type": "code",
   "execution_count": 2,
   "id": "1b40c75b-3c71-418f-8be9-7fcfa278ee82",
   "metadata": {
    "editable": true,
    "execution": {
     "iopub.execute_input": "2025-08-08T13:50:22.133282Z",
     "iopub.status.busy": "2025-08-08T13:50:22.132759Z",
     "iopub.status.idle": "2025-08-08T13:50:22.725149Z",
     "shell.execute_reply": "2025-08-08T13:50:22.724174Z",
     "shell.execute_reply.started": "2025-08-08T13:50:22.133241Z"
    },
    "slideshow": {
     "slide_type": ""
    },
    "tags": []
   },
   "outputs": [],
   "source": [
    "import pandas as pd\n",
    "\n",
    "df = pd.read_csv(\"../Datasets/cpu/AMDfullspecs_adjusted.csv\")\n",
    "original_df = df\n",
    "# df"
   ]
  },
  {
   "cell_type": "code",
   "execution_count": 3,
   "id": "24604fc5-29e5-48ef-9c55-a9809ab51507",
   "metadata": {
    "execution": {
     "iopub.execute_input": "2025-08-08T13:50:24.781394Z",
     "iopub.status.busy": "2025-08-08T13:50:24.780979Z",
     "iopub.status.idle": "2025-08-08T13:50:24.785246Z",
     "shell.execute_reply": "2025-08-08T13:50:24.784421Z",
     "shell.execute_reply.started": "2025-08-08T13:50:24.781364Z"
    },
    "tags": []
   },
   "outputs": [],
   "source": [
    "# df.describe()"
   ]
  },
  {
   "cell_type": "code",
   "execution_count": 4,
   "id": "f6841cdb-7baf-4b77-a547-b62ea494c576",
   "metadata": {
    "execution": {
     "iopub.execute_input": "2025-08-08T13:50:27.088057Z",
     "iopub.status.busy": "2025-08-08T13:50:27.087705Z",
     "iopub.status.idle": "2025-08-08T13:50:27.092365Z",
     "shell.execute_reply": "2025-08-08T13:50:27.091437Z",
     "shell.execute_reply.started": "2025-08-08T13:50:27.088030Z"
    }
   },
   "outputs": [],
   "source": [
    "# df.info()"
   ]
  },
  {
   "cell_type": "code",
   "execution_count": 5,
   "id": "ee185254-71be-4f4d-b4cc-01f360ca7424",
   "metadata": {
    "execution": {
     "iopub.execute_input": "2025-08-08T13:50:29.805769Z",
     "iopub.status.busy": "2025-08-08T13:50:29.805301Z",
     "iopub.status.idle": "2025-08-08T13:50:29.809393Z",
     "shell.execute_reply": "2025-08-08T13:50:29.808318Z",
     "shell.execute_reply.started": "2025-08-08T13:50:29.805742Z"
    }
   },
   "outputs": [],
   "source": [
    "# df.columns"
   ]
  },
  {
   "cell_type": "markdown",
   "id": "d4e00901-d9eb-42f1-bed0-e2ccec19af23",
   "metadata": {},
   "source": [
    "## 1 finding processor not having gpu\n"
   ]
  },
  {
   "cell_type": "code",
   "execution_count": 6,
   "id": "6a2f69a9-e96b-46db-89e0-262591008d00",
   "metadata": {
    "execution": {
     "iopub.execute_input": "2025-08-08T13:50:32.471653Z",
     "iopub.status.busy": "2025-08-08T13:50:32.471242Z",
     "iopub.status.idle": "2025-08-08T13:50:32.488126Z",
     "shell.execute_reply": "2025-08-08T13:50:32.487070Z",
     "shell.execute_reply.started": "2025-08-08T13:50:32.471624Z"
    }
   },
   "outputs": [
    {
     "data": {
      "text/plain": [
       "(269, 7)"
      ]
     },
     "execution_count": 6,
     "metadata": {},
     "output_type": "execute_result"
    }
   ],
   "source": [
    "set1 = df[\n",
    "    [\n",
    "        \"model\",\n",
    "        \"graphicsModel\",\n",
    "        \"launchDate\",\n",
    "        \"platform\",\n",
    "        \"L1Cache\",\n",
    "        \"L2Cache\",\n",
    "        \"L3Cache\",\n",
    "    ]\n",
    "]\n",
    "set1[set1[\"graphicsModel\"].isna()].shape"
   ]
  },
  {
   "cell_type": "code",
   "execution_count": 7,
   "id": "e441861e-d250-4662-ba51-99b564752780",
   "metadata": {
    "execution": {
     "iopub.execute_input": "2025-08-08T13:50:34.690521Z",
     "iopub.status.busy": "2025-08-08T13:50:34.690178Z",
     "iopub.status.idle": "2025-08-08T13:50:34.707570Z",
     "shell.execute_reply": "2025-08-08T13:50:34.706845Z",
     "shell.execute_reply.started": "2025-08-08T13:50:34.690497Z"
    }
   },
   "outputs": [
    {
     "data": {
      "text/html": [
       "<div>\n",
       "<style scoped>\n",
       "    .dataframe tbody tr th:only-of-type {\n",
       "        vertical-align: middle;\n",
       "    }\n",
       "\n",
       "    .dataframe tbody tr th {\n",
       "        vertical-align: top;\n",
       "    }\n",
       "\n",
       "    .dataframe thead th {\n",
       "        text-align: right;\n",
       "    }\n",
       "</style>\n",
       "<table border=\"1\" class=\"dataframe\">\n",
       "  <thead>\n",
       "    <tr style=\"text-align: right;\">\n",
       "      <th></th>\n",
       "      <th>model</th>\n",
       "      <th>launchDate</th>\n",
       "      <th>platform</th>\n",
       "    </tr>\n",
       "  </thead>\n",
       "  <tbody>\n",
       "    <tr>\n",
       "      <th>37</th>\n",
       "      <td>AMD EPYC™ 72F3</td>\n",
       "      <td>2021.0</td>\n",
       "      <td>Server</td>\n",
       "    </tr>\n",
       "    <tr>\n",
       "      <th>38</th>\n",
       "      <td>AMD EPYC™ 7313</td>\n",
       "      <td>2021.0</td>\n",
       "      <td>Server</td>\n",
       "    </tr>\n",
       "    <tr>\n",
       "      <th>39</th>\n",
       "      <td>AMD EPYC™ 7313P</td>\n",
       "      <td>2021.0</td>\n",
       "      <td>Server</td>\n",
       "    </tr>\n",
       "    <tr>\n",
       "      <th>40</th>\n",
       "      <td>AMD EPYC™ 7343</td>\n",
       "      <td>2021.0</td>\n",
       "      <td>Server</td>\n",
       "    </tr>\n",
       "    <tr>\n",
       "      <th>41</th>\n",
       "      <td>AMD EPYC™ 73F3</td>\n",
       "      <td>2021.0</td>\n",
       "      <td>Server</td>\n",
       "    </tr>\n",
       "    <tr>\n",
       "      <th>...</th>\n",
       "      <td>...</td>\n",
       "      <td>...</td>\n",
       "      <td>...</td>\n",
       "    </tr>\n",
       "    <tr>\n",
       "      <th>577</th>\n",
       "      <td>TL-56</td>\n",
       "      <td>NaN</td>\n",
       "      <td>Laptop</td>\n",
       "    </tr>\n",
       "    <tr>\n",
       "      <th>578</th>\n",
       "      <td>TL-60</td>\n",
       "      <td>NaN</td>\n",
       "      <td>Laptop</td>\n",
       "    </tr>\n",
       "    <tr>\n",
       "      <th>579</th>\n",
       "      <td>TL-64</td>\n",
       "      <td>NaN</td>\n",
       "      <td>Laptop</td>\n",
       "    </tr>\n",
       "    <tr>\n",
       "      <th>580</th>\n",
       "      <td>X1150</td>\n",
       "      <td>NaN</td>\n",
       "      <td>Server</td>\n",
       "    </tr>\n",
       "    <tr>\n",
       "      <th>581</th>\n",
       "      <td>X940</td>\n",
       "      <td>NaN</td>\n",
       "      <td>Laptop</td>\n",
       "    </tr>\n",
       "  </tbody>\n",
       "</table>\n",
       "<p>269 rows × 3 columns</p>\n",
       "</div>"
      ],
      "text/plain": [
       "               model  launchDate platform\n",
       "37    AMD EPYC™ 72F3      2021.0   Server\n",
       "38    AMD EPYC™ 7313      2021.0   Server\n",
       "39   AMD EPYC™ 7313P      2021.0   Server\n",
       "40    AMD EPYC™ 7343      2021.0   Server\n",
       "41    AMD EPYC™ 73F3      2021.0   Server\n",
       "..               ...         ...      ...\n",
       "577            TL-56         NaN   Laptop\n",
       "578            TL-60         NaN   Laptop\n",
       "579            TL-64         NaN   Laptop\n",
       "580            X1150         NaN   Server\n",
       "581             X940         NaN   Laptop\n",
       "\n",
       "[269 rows x 3 columns]"
      ]
     },
     "execution_count": 7,
     "metadata": {},
     "output_type": "execute_result"
    }
   ],
   "source": [
    "set1[set1[\"graphicsModel\"].isna()][[\"model\", \"launchDate\", \"platform\"]]"
   ]
  },
  {
   "cell_type": "code",
   "execution_count": 9,
   "id": "669b4cb9-42a6-4335-bb94-ed9d139f3388",
   "metadata": {
    "execution": {
     "iopub.execute_input": "2025-08-08T11:24:58.081727Z",
     "iopub.status.busy": "2025-08-08T11:24:58.081305Z",
     "iopub.status.idle": "2025-08-08T11:24:58.099158Z",
     "shell.execute_reply": "2025-08-08T11:24:58.098168Z",
     "shell.execute_reply.started": "2025-08-08T11:24:58.081697Z"
    }
   },
   "outputs": [
    {
     "data": {
      "text/html": [
       "<div>\n",
       "<style scoped>\n",
       "    .dataframe tbody tr th:only-of-type {\n",
       "        vertical-align: middle;\n",
       "    }\n",
       "\n",
       "    .dataframe tbody tr th {\n",
       "        vertical-align: top;\n",
       "    }\n",
       "\n",
       "    .dataframe thead th {\n",
       "        text-align: right;\n",
       "    }\n",
       "</style>\n",
       "<table border=\"1\" class=\"dataframe\">\n",
       "  <thead>\n",
       "    <tr style=\"text-align: right;\">\n",
       "      <th></th>\n",
       "      <th>model</th>\n",
       "      <th>graphicsModel</th>\n",
       "      <th>launchDate</th>\n",
       "      <th>platform</th>\n",
       "      <th>L1Cache</th>\n",
       "      <th>L2Cache</th>\n",
       "      <th>L3Cache</th>\n",
       "    </tr>\n",
       "  </thead>\n",
       "  <tbody>\n",
       "    <tr>\n",
       "      <th>0</th>\n",
       "      <td>AMD Ryzen™ 5 6600H</td>\n",
       "      <td>AMD Radeon™ 660M</td>\n",
       "      <td>2022.0</td>\n",
       "      <td>Laptop</td>\n",
       "      <td>384.0</td>\n",
       "      <td>3.0</td>\n",
       "      <td>16.0</td>\n",
       "    </tr>\n",
       "    <tr>\n",
       "      <th>1</th>\n",
       "      <td>AMD Ryzen™ 5 6600HS​</td>\n",
       "      <td>AMD Radeon™ 660M</td>\n",
       "      <td>2022.0</td>\n",
       "      <td>Laptop</td>\n",
       "      <td>384.0</td>\n",
       "      <td>3.0</td>\n",
       "      <td>16.0</td>\n",
       "    </tr>\n",
       "    <tr>\n",
       "      <th>2</th>\n",
       "      <td>AMD Ryzen™ 5 6600U</td>\n",
       "      <td>AMD Radeon™ 660M</td>\n",
       "      <td>2022.0</td>\n",
       "      <td>Laptop</td>\n",
       "      <td>384.0</td>\n",
       "      <td>3.0</td>\n",
       "      <td>16.0</td>\n",
       "    </tr>\n",
       "    <tr>\n",
       "      <th>3</th>\n",
       "      <td>AMD Ryzen™ 5 PRO 6650H</td>\n",
       "      <td>AMD Radeon™ 660M</td>\n",
       "      <td>2022.0</td>\n",
       "      <td>Laptop</td>\n",
       "      <td>384.0</td>\n",
       "      <td>3.0</td>\n",
       "      <td>16.0</td>\n",
       "    </tr>\n",
       "    <tr>\n",
       "      <th>4</th>\n",
       "      <td>AMD Ryzen™ 5 PRO 6650HS</td>\n",
       "      <td>AMD Radeon™ 660M</td>\n",
       "      <td>2022.0</td>\n",
       "      <td>Laptop</td>\n",
       "      <td>384.0</td>\n",
       "      <td>3.0</td>\n",
       "      <td>16.0</td>\n",
       "    </tr>\n",
       "    <tr>\n",
       "      <th>...</th>\n",
       "      <td>...</td>\n",
       "      <td>...</td>\n",
       "      <td>...</td>\n",
       "      <td>...</td>\n",
       "      <td>...</td>\n",
       "      <td>...</td>\n",
       "      <td>...</td>\n",
       "    </tr>\n",
       "    <tr>\n",
       "      <th>576</th>\n",
       "      <td>TL-52</td>\n",
       "      <td>NaN</td>\n",
       "      <td>NaN</td>\n",
       "      <td>Laptop</td>\n",
       "      <td>NaN</td>\n",
       "      <td>2.0</td>\n",
       "      <td>NaN</td>\n",
       "    </tr>\n",
       "    <tr>\n",
       "      <th>577</th>\n",
       "      <td>TL-56</td>\n",
       "      <td>NaN</td>\n",
       "      <td>NaN</td>\n",
       "      <td>Laptop</td>\n",
       "      <td>NaN</td>\n",
       "      <td>NaN</td>\n",
       "      <td>NaN</td>\n",
       "    </tr>\n",
       "    <tr>\n",
       "      <th>578</th>\n",
       "      <td>TL-60</td>\n",
       "      <td>NaN</td>\n",
       "      <td>NaN</td>\n",
       "      <td>Laptop</td>\n",
       "      <td>NaN</td>\n",
       "      <td>1.0</td>\n",
       "      <td>NaN</td>\n",
       "    </tr>\n",
       "    <tr>\n",
       "      <th>579</th>\n",
       "      <td>TL-64</td>\n",
       "      <td>NaN</td>\n",
       "      <td>NaN</td>\n",
       "      <td>Laptop</td>\n",
       "      <td>NaN</td>\n",
       "      <td>1.0</td>\n",
       "      <td>NaN</td>\n",
       "    </tr>\n",
       "    <tr>\n",
       "      <th>581</th>\n",
       "      <td>X940</td>\n",
       "      <td>NaN</td>\n",
       "      <td>NaN</td>\n",
       "      <td>Laptop</td>\n",
       "      <td>512.0</td>\n",
       "      <td>2.0</td>\n",
       "      <td>NaN</td>\n",
       "    </tr>\n",
       "  </tbody>\n",
       "</table>\n",
       "<p>196 rows × 7 columns</p>\n",
       "</div>"
      ],
      "text/plain": [
       "                       model     graphicsModel  launchDate platform  L1Cache  \\\n",
       "0         AMD Ryzen™ 5 6600H  AMD Radeon™ 660M      2022.0   Laptop    384.0   \n",
       "1       AMD Ryzen™ 5 6600HS​  AMD Radeon™ 660M      2022.0   Laptop    384.0   \n",
       "2         AMD Ryzen™ 5 6600U  AMD Radeon™ 660M      2022.0   Laptop    384.0   \n",
       "3     AMD Ryzen™ 5 PRO 6650H  AMD Radeon™ 660M      2022.0   Laptop    384.0   \n",
       "4    AMD Ryzen™ 5 PRO 6650HS  AMD Radeon™ 660M      2022.0   Laptop    384.0   \n",
       "..                       ...               ...         ...      ...      ...   \n",
       "576                    TL-52               NaN         NaN   Laptop      NaN   \n",
       "577                    TL-56               NaN         NaN   Laptop      NaN   \n",
       "578                    TL-60               NaN         NaN   Laptop      NaN   \n",
       "579                    TL-64               NaN         NaN   Laptop      NaN   \n",
       "581                     X940               NaN         NaN   Laptop    512.0   \n",
       "\n",
       "     L2Cache  L3Cache  \n",
       "0        3.0     16.0  \n",
       "1        3.0     16.0  \n",
       "2        3.0     16.0  \n",
       "3        3.0     16.0  \n",
       "4        3.0     16.0  \n",
       "..       ...      ...  \n",
       "576      2.0      NaN  \n",
       "577      NaN      NaN  \n",
       "578      1.0      NaN  \n",
       "579      1.0      NaN  \n",
       "581      2.0      NaN  \n",
       "\n",
       "[196 rows x 7 columns]"
      ]
     },
     "execution_count": 9,
     "metadata": {},
     "output_type": "execute_result"
    }
   ],
   "source": [
    "# cpu not having gpu and is for laptop\n",
    "laptop_without_gpu = set1[set1[\"platform\"].str.contains(\"Laptop\", case=False, na=False)]\n",
    "laptop_without_gpu"
   ]
  },
  {
   "cell_type": "code",
   "execution_count": 8,
   "id": "2b8769b4-1e11-4267-a92a-3132c9b3110d",
   "metadata": {
    "execution": {
     "iopub.execute_input": "2025-08-08T13:50:43.086960Z",
     "iopub.status.busy": "2025-08-08T13:50:43.086538Z",
     "iopub.status.idle": "2025-08-08T13:50:43.092750Z",
     "shell.execute_reply": "2025-08-08T13:50:43.091864Z",
     "shell.execute_reply.started": "2025-08-08T13:50:43.086932Z"
    }
   },
   "outputs": [],
   "source": [
    "cpu_for_server = set1[set1[\"platform\"].str.contains(\"Server\")]\n",
    "# cpu_for_server"
   ]
  },
  {
   "cell_type": "code",
   "execution_count": 9,
   "id": "cbd9955a-74ec-47c6-b223-150a81478e8a",
   "metadata": {
    "execution": {
     "iopub.execute_input": "2025-08-08T13:50:46.465490Z",
     "iopub.status.busy": "2025-08-08T13:50:46.465144Z",
     "iopub.status.idle": "2025-08-08T13:50:46.475927Z",
     "shell.execute_reply": "2025-08-08T13:50:46.474989Z",
     "shell.execute_reply.started": "2025-08-08T13:50:46.465466Z"
    }
   },
   "outputs": [
    {
     "data": {
      "text/html": [
       "<div>\n",
       "<style scoped>\n",
       "    .dataframe tbody tr th:only-of-type {\n",
       "        vertical-align: middle;\n",
       "    }\n",
       "\n",
       "    .dataframe tbody tr th {\n",
       "        vertical-align: top;\n",
       "    }\n",
       "\n",
       "    .dataframe thead th {\n",
       "        text-align: right;\n",
       "    }\n",
       "</style>\n",
       "<table border=\"1\" class=\"dataframe\">\n",
       "  <thead>\n",
       "    <tr style=\"text-align: right;\">\n",
       "      <th></th>\n",
       "      <th>model</th>\n",
       "      <th>graphicsModel</th>\n",
       "      <th>launchDate</th>\n",
       "      <th>platform</th>\n",
       "      <th>L1Cache</th>\n",
       "      <th>L2Cache</th>\n",
       "      <th>L3Cache</th>\n",
       "    </tr>\n",
       "  </thead>\n",
       "  <tbody>\n",
       "  </tbody>\n",
       "</table>\n",
       "</div>"
      ],
      "text/plain": [
       "Empty DataFrame\n",
       "Columns: [model, graphicsModel, launchDate, platform, L1Cache, L2Cache, L3Cache]\n",
       "Index: []"
      ]
     },
     "execution_count": 9,
     "metadata": {},
     "output_type": "execute_result"
    }
   ],
   "source": [
    "cpu_for_notebook = set1[set1[\"platform\"].str.contains(\"Notebook\")]\n",
    "cpu_for_notebook"
   ]
  },
  {
   "cell_type": "code",
   "execution_count": null,
   "id": "a4c9f53c-2bba-4826-a902-e64c4e28d5d4",
   "metadata": {},
   "outputs": [],
   "source": []
  },
  {
   "cell_type": "markdown",
   "id": "78fd43e7-b313-43ad-9b70-0fd737bdc160",
   "metadata": {},
   "source": [
    "## 2 CPU grouped by family\n"
   ]
  },
  {
   "cell_type": "code",
   "execution_count": 10,
   "id": "3deedff8-ffdd-4c87-9b9a-2010dd2e50f2",
   "metadata": {
    "execution": {
     "iopub.execute_input": "2025-08-08T13:50:52.306007Z",
     "iopub.status.busy": "2025-08-08T13:50:52.305641Z",
     "iopub.status.idle": "2025-08-08T13:50:52.316654Z",
     "shell.execute_reply": "2025-08-08T13:50:52.315839Z",
     "shell.execute_reply.started": "2025-08-08T13:50:52.305981Z"
    }
   },
   "outputs": [],
   "source": [
    "cpu_family = df.groupby(\"family\")[\"model\"].apply(list)\n",
    "# cpu_family"
   ]
  },
  {
   "cell_type": "code",
   "execution_count": 11,
   "id": "397c4ae8-d4ca-4bac-8669-b91b92ccf523",
   "metadata": {
    "execution": {
     "iopub.execute_input": "2025-08-08T13:50:54.473108Z",
     "iopub.status.busy": "2025-08-08T13:50:54.472732Z",
     "iopub.status.idle": "2025-08-08T13:50:54.478714Z",
     "shell.execute_reply": "2025-08-08T13:50:54.477769Z",
     "shell.execute_reply.started": "2025-08-08T13:50:54.473082Z"
    }
   },
   "outputs": [],
   "source": [
    "cpu_family_count = df.groupby(\"family\")[\"model\"].count()\n",
    "# print(cpu_family_count)"
   ]
  },
  {
   "cell_type": "code",
   "execution_count": 16,
   "id": "d070de64-6830-488f-bb9d-0ce9220bba96",
   "metadata": {
    "execution": {
     "iopub.execute_input": "2025-08-08T13:51:31.578175Z",
     "iopub.status.busy": "2025-08-08T13:51:31.577832Z",
     "iopub.status.idle": "2025-08-08T13:51:31.584415Z",
     "shell.execute_reply": "2025-08-08T13:51:31.583618Z",
     "shell.execute_reply.started": "2025-08-08T13:51:31.578152Z"
    }
   },
   "outputs": [],
   "source": [
    "# top 5 cpu of family having most head count\n",
    "\n",
    "highest_freq_family_model = (\n",
    "    df.groupby(\"family\")[\"model\"].count().idxmax()\n",
    ")  # this will give model name\n",
    "top_5_highest_freq = df[df[\"family\"] == highest_freq_family_model].head(5)\n",
    "# top_5_highest_freq"
   ]
  },
  {
   "cell_type": "markdown",
   "id": "1b060d92-1627-459e-bcfc-da3e704ff419",
   "metadata": {},
   "source": [
    "## 3 Launch date is after 2023"
   ]
  },
  {
   "cell_type": "code",
   "execution_count": 17,
   "id": "c558ede2-f855-408c-a4ae-d8102b1981c1",
   "metadata": {
    "execution": {
     "iopub.execute_input": "2025-08-08T13:51:35.770637Z",
     "iopub.status.busy": "2025-08-08T13:51:35.770262Z",
     "iopub.status.idle": "2025-08-08T13:51:35.778054Z",
     "shell.execute_reply": "2025-08-08T13:51:35.777212Z",
     "shell.execute_reply.started": "2025-08-08T13:51:35.770594Z"
    }
   },
   "outputs": [],
   "source": [
    "launch_date_2020 = set1[set1[\"launchDate\"] > 2020].sort_values(\n",
    "    \"launchDate\", ascending=False\n",
    ")[[\"model\", \"launchDate\", \"platform\"]]\n",
    "latest_cpu_for_laptop = launch_date_2020[\n",
    "    launch_date_2020[\"platform\"].str.contains(\"Laptop\")\n",
    "]\n",
    "# latest_cpu_for_laptop"
   ]
  },
  {
   "cell_type": "markdown",
   "id": "38a4bc8e-ccb6-40dd-9f50-1b62818bc5a1",
   "metadata": {},
   "source": [
    "## 4 Top 5 cpus having higest l1, l2, l3 cache "
   ]
  },
  {
   "cell_type": "code",
   "execution_count": 18,
   "id": "483a132d-98d4-411f-a250-59ea0991a5c1",
   "metadata": {
    "execution": {
     "iopub.execute_input": "2025-08-08T13:51:43.802783Z",
     "iopub.status.busy": "2025-08-08T13:51:43.802398Z",
     "iopub.status.idle": "2025-08-08T13:51:43.808386Z",
     "shell.execute_reply": "2025-08-08T13:51:43.807486Z",
     "shell.execute_reply.started": "2025-08-08T13:51:43.802759Z"
    }
   },
   "outputs": [],
   "source": [
    "l1Cache_list = df[[\"model\", \"L1Cache\", \"platform\"]]\n",
    "h = l1Cache_list[\"L1Cache\"].max()  # int datatype for comparision\n",
    "# l1Cache_list[l1Cache_list[\"L1Cache\"] == h][[\"model\", \"L1Cache\", \"platform\"]]"
   ]
  },
  {
   "cell_type": "code",
   "execution_count": 19,
   "id": "8f94f6bb-44ea-4c60-bac3-3e6e40dab843",
   "metadata": {
    "execution": {
     "iopub.execute_input": "2025-08-08T13:51:46.762337Z",
     "iopub.status.busy": "2025-08-08T13:51:46.761992Z",
     "iopub.status.idle": "2025-08-08T13:51:46.768978Z",
     "shell.execute_reply": "2025-08-08T13:51:46.767885Z",
     "shell.execute_reply.started": "2025-08-08T13:51:46.762312Z"
    }
   },
   "outputs": [],
   "source": [
    "l2cache_list = df[[\"L2Cache\", \"model\", \"platform\"]]\n",
    "h1 = l2cache_list[\"L2Cache\"].max()\n",
    "# l2cache_list[l2cache_list[\"L2Cache\"] == h1][[\"model\", \"platform\", \"L2Cache\"]]"
   ]
  },
  {
   "cell_type": "code",
   "execution_count": 20,
   "id": "ae9c68a5-948f-4842-a914-813a052ae8dd",
   "metadata": {
    "execution": {
     "iopub.execute_input": "2025-08-08T13:51:49.184063Z",
     "iopub.status.busy": "2025-08-08T13:51:49.183716Z",
     "iopub.status.idle": "2025-08-08T13:51:49.189924Z",
     "shell.execute_reply": "2025-08-08T13:51:49.189030Z",
     "shell.execute_reply.started": "2025-08-08T13:51:49.184039Z"
    }
   },
   "outputs": [],
   "source": [
    "l3cache_list = df[[\"model\", \"L3Cache\", \"platform\"]]\n",
    "h2 = l3cache_list[\"L3Cache\"].max()\n",
    "# l3cache_list[l3cache_list[\"L3Cache\"] == h2]"
   ]
  },
  {
   "cell_type": "markdown",
   "id": "317d3403-b215-4c41-9a1a-8380aa1fdb64",
   "metadata": {},
   "source": [
    "## 6 Filter High-End CPUs"
   ]
  },
  {
   "cell_type": "code",
   "execution_count": 135,
   "id": "dccdc16f-a559-4922-bb29-4114e86b8e46",
   "metadata": {
    "execution": {
     "iopub.execute_input": "2025-08-08T13:15:48.836706Z",
     "iopub.status.busy": "2025-08-08T13:15:48.836451Z",
     "iopub.status.idle": "2025-08-08T13:15:48.845745Z",
     "shell.execute_reply": "2025-08-08T13:15:48.845303Z",
     "shell.execute_reply.started": "2025-08-08T13:15:48.836688Z"
    }
   },
   "outputs": [
    {
     "data": {
      "text/html": [
       "<div>\n",
       "<style scoped>\n",
       "    .dataframe tbody tr th:only-of-type {\n",
       "        vertical-align: middle;\n",
       "    }\n",
       "\n",
       "    .dataframe tbody tr th {\n",
       "        vertical-align: top;\n",
       "    }\n",
       "\n",
       "    .dataframe thead th {\n",
       "        text-align: right;\n",
       "    }\n",
       "</style>\n",
       "<table border=\"1\" class=\"dataframe\">\n",
       "  <thead>\n",
       "    <tr style=\"text-align: right;\">\n",
       "      <th></th>\n",
       "      <th>model</th>\n",
       "      <th>numCores</th>\n",
       "      <th>numThreads</th>\n",
       "      <th>platform</th>\n",
       "      <th>baseClock</th>\n",
       "      <th>launchDate</th>\n",
       "    </tr>\n",
       "  </thead>\n",
       "  <tbody>\n",
       "    <tr>\n",
       "      <th>103</th>\n",
       "      <td>AMD Ryzen™ Threadripper™ PRO 3945WX</td>\n",
       "      <td>12.0</td>\n",
       "      <td>24.0</td>\n",
       "      <td>Desktop</td>\n",
       "      <td>4.0</td>\n",
       "      <td>2020.0</td>\n",
       "    </tr>\n",
       "    <tr>\n",
       "      <th>511</th>\n",
       "      <td>AMD Ryzen™ Threadripper™ PRO 5945WX</td>\n",
       "      <td>12.0</td>\n",
       "      <td>24.0</td>\n",
       "      <td>Desktop</td>\n",
       "      <td>4.1</td>\n",
       "      <td>NaN</td>\n",
       "    </tr>\n",
       "    <tr>\n",
       "      <th>512</th>\n",
       "      <td>AMD Ryzen™ Threadripper™ PRO 5955WX</td>\n",
       "      <td>16.0</td>\n",
       "      <td>32.0</td>\n",
       "      <td>Desktop</td>\n",
       "      <td>4.0</td>\n",
       "      <td>NaN</td>\n",
       "    </tr>\n",
       "  </tbody>\n",
       "</table>\n",
       "</div>"
      ],
      "text/plain": [
       "                                   model  numCores  numThreads platform  \\\n",
       "103  AMD Ryzen™ Threadripper™ PRO 3945WX      12.0        24.0  Desktop   \n",
       "511  AMD Ryzen™ Threadripper™ PRO 5945WX      12.0        24.0  Desktop   \n",
       "512  AMD Ryzen™ Threadripper™ PRO 5955WX      16.0        32.0  Desktop   \n",
       "\n",
       "     baseClock  launchDate  \n",
       "103        4.0      2020.0  \n",
       "511        4.1         NaN  \n",
       "512        4.0         NaN  "
      ]
     },
     "execution_count": 135,
     "metadata": {},
     "output_type": "execute_result"
    }
   ],
   "source": [
    "# List all CPUs that: # Have ≥ 8 cores AND ≥ 16 threads # Clock speed (base or boost) ≥ 4 GHz\n",
    "\n",
    "core_tread_list = df[\n",
    "    [\"model\", \"numCores\", \"numThreads\", \"platform\", \"baseClock\", \"launchDate\"]\n",
    "]\n",
    "core_tread_list[\n",
    "    (core_tread_list[\"numCores\"] >= 8)\n",
    "    & (core_tread_list[\"numThreads\"] >= 16)\n",
    "    & (core_tread_list[\"baseClock\"] >= 4)\n",
    "]"
   ]
  },
  {
   "cell_type": "markdown",
   "id": "ea49cec4-55b9-444f-9000-a1ef57641d44",
   "metadata": {},
   "source": [
    "## 7 Extract Year from launchDate"
   ]
  },
  {
   "cell_type": "code",
   "execution_count": 150,
   "id": "2d01a549-38d5-497c-b3c0-c3f815f52d2d",
   "metadata": {
    "execution": {
     "iopub.execute_input": "2025-08-08T13:32:06.551009Z",
     "iopub.status.busy": "2025-08-08T13:32:06.550720Z",
     "iopub.status.idle": "2025-08-08T13:32:06.563479Z",
     "shell.execute_reply": "2025-08-08T13:32:06.563080Z",
     "shell.execute_reply.started": "2025-08-08T13:32:06.550986Z"
    }
   },
   "outputs": [
    {
     "data": {
      "text/html": [
       "<div>\n",
       "<style scoped>\n",
       "    .dataframe tbody tr th:only-of-type {\n",
       "        vertical-align: middle;\n",
       "    }\n",
       "\n",
       "    .dataframe tbody tr th {\n",
       "        vertical-align: top;\n",
       "    }\n",
       "\n",
       "    .dataframe thead th {\n",
       "        text-align: right;\n",
       "    }\n",
       "</style>\n",
       "<table border=\"1\" class=\"dataframe\">\n",
       "  <thead>\n",
       "    <tr style=\"text-align: right;\">\n",
       "      <th></th>\n",
       "      <th>model</th>\n",
       "      <th>numCores</th>\n",
       "      <th>numThreads</th>\n",
       "      <th>baseClock</th>\n",
       "      <th>maxboostClock</th>\n",
       "      <th>allCoreBoostSpeed</th>\n",
       "      <th>L1Cache</th>\n",
       "      <th>L2Cache</th>\n",
       "      <th>L3Cache</th>\n",
       "      <th>processTech</th>\n",
       "      <th>...</th>\n",
       "      <th>graphicsFreq</th>\n",
       "      <th>unlocked</th>\n",
       "      <th>platform</th>\n",
       "      <th>cpuSocket</th>\n",
       "      <th>socketCount</th>\n",
       "      <th>family</th>\n",
       "      <th>line</th>\n",
       "      <th>graphicsModel</th>\n",
       "      <th>thermalSolution</th>\n",
       "      <th>launchYear</th>\n",
       "    </tr>\n",
       "    <tr>\n",
       "      <th>launchDate</th>\n",
       "      <th></th>\n",
       "      <th></th>\n",
       "      <th></th>\n",
       "      <th></th>\n",
       "      <th></th>\n",
       "      <th></th>\n",
       "      <th></th>\n",
       "      <th></th>\n",
       "      <th></th>\n",
       "      <th></th>\n",
       "      <th></th>\n",
       "      <th></th>\n",
       "      <th></th>\n",
       "      <th></th>\n",
       "      <th></th>\n",
       "      <th></th>\n",
       "      <th></th>\n",
       "      <th></th>\n",
       "      <th></th>\n",
       "      <th></th>\n",
       "      <th></th>\n",
       "    </tr>\n",
       "  </thead>\n",
       "  <tbody>\n",
       "    <tr>\n",
       "      <th>2020.0</th>\n",
       "      <td>60</td>\n",
       "      <td>60</td>\n",
       "      <td>58</td>\n",
       "      <td>60</td>\n",
       "      <td>60</td>\n",
       "      <td>0</td>\n",
       "      <td>35</td>\n",
       "      <td>60</td>\n",
       "      <td>58</td>\n",
       "      <td>60</td>\n",
       "      <td>...</td>\n",
       "      <td>47</td>\n",
       "      <td>47</td>\n",
       "      <td>60</td>\n",
       "      <td>53</td>\n",
       "      <td>4</td>\n",
       "      <td>60</td>\n",
       "      <td>60</td>\n",
       "      <td>47</td>\n",
       "      <td>4</td>\n",
       "      <td>60</td>\n",
       "    </tr>\n",
       "    <tr>\n",
       "      <th>2021.0</th>\n",
       "      <td>56</td>\n",
       "      <td>56</td>\n",
       "      <td>56</td>\n",
       "      <td>56</td>\n",
       "      <td>56</td>\n",
       "      <td>0</td>\n",
       "      <td>4</td>\n",
       "      <td>37</td>\n",
       "      <td>56</td>\n",
       "      <td>37</td>\n",
       "      <td>...</td>\n",
       "      <td>35</td>\n",
       "      <td>21</td>\n",
       "      <td>56</td>\n",
       "      <td>56</td>\n",
       "      <td>19</td>\n",
       "      <td>56</td>\n",
       "      <td>56</td>\n",
       "      <td>35</td>\n",
       "      <td>4</td>\n",
       "      <td>56</td>\n",
       "    </tr>\n",
       "  </tbody>\n",
       "</table>\n",
       "<p>2 rows × 30 columns</p>\n",
       "</div>"
      ],
      "text/plain": [
       "            model  numCores  numThreads  baseClock  maxboostClock  \\\n",
       "launchDate                                                          \n",
       "2020.0         60        60          58         60             60   \n",
       "2021.0         56        56          56         56             56   \n",
       "\n",
       "            allCoreBoostSpeed  L1Cache  L2Cache  L3Cache  processTech  ...  \\\n",
       "launchDate                                                             ...   \n",
       "2020.0                      0       35       60       58           60  ...   \n",
       "2021.0                      0        4       37       56           37  ...   \n",
       "\n",
       "            graphicsFreq  unlocked  platform  cpuSocket  socketCount  family  \\\n",
       "launchDate                                                                     \n",
       "2020.0                47        47        60         53            4      60   \n",
       "2021.0                35        21        56         56           19      56   \n",
       "\n",
       "            line  graphicsModel  thermalSolution  launchYear  \n",
       "launchDate                                                    \n",
       "2020.0        60             47                4          60  \n",
       "2021.0        56             35                4          56  \n",
       "\n",
       "[2 rows x 30 columns]"
      ]
     },
     "execution_count": 150,
     "metadata": {},
     "output_type": "execute_result"
    }
   ],
   "source": [
    "# checking on which year how many cpu launched\n",
    "cpu_launch_count = df.groupby(\"launchDate\").count()\n",
    "cpu_launch_count[cpu_launch_count[\"model\"] > 50]  # year when more than 50 cpu launched"
   ]
  },
  {
   "cell_type": "markdown",
   "id": "d3f5a259-fc8f-492f-af7b-5d61db1cbc46",
   "metadata": {},
   "source": [
    "## 8 Compute Performance Metrics"
   ]
  },
  {
   "cell_type": "code",
   "execution_count": 158,
   "id": "1cd22e39-95d2-4351-9f64-99fd72a11d17",
   "metadata": {
    "execution": {
     "iopub.execute_input": "2025-08-08T13:38:23.452916Z",
     "iopub.status.busy": "2025-08-08T13:38:23.452675Z",
     "iopub.status.idle": "2025-08-08T13:38:23.463896Z",
     "shell.execute_reply": "2025-08-08T13:38:23.463570Z",
     "shell.execute_reply.started": "2025-08-08T13:38:23.452898Z"
    }
   },
   "outputs": [
    {
     "name": "stderr",
     "output_type": "stream",
     "text": [
      "/tmp/ipykernel_65626/3812531532.py:4: SettingWithCopyWarning: \n",
      "A value is trying to be set on a copy of a slice from a DataFrame.\n",
      "Try using .loc[row_indexer,col_indexer] = value instead\n",
      "\n",
      "See the caveats in the documentation: https://pandas.pydata.org/pandas-docs/stable/user_guide/indexing.html#returning-a-view-versus-a-copy\n",
      "  set2[\"ps\"] = (set2[\"baseClock\"] + set2[\"maxboostClock\"]) * set2[\"numThreads\"]\n"
     ]
    },
    {
     "data": {
      "text/html": [
       "<div>\n",
       "<style scoped>\n",
       "    .dataframe tbody tr th:only-of-type {\n",
       "        vertical-align: middle;\n",
       "    }\n",
       "\n",
       "    .dataframe tbody tr th {\n",
       "        vertical-align: top;\n",
       "    }\n",
       "\n",
       "    .dataframe thead th {\n",
       "        text-align: right;\n",
       "    }\n",
       "</style>\n",
       "<table border=\"1\" class=\"dataframe\">\n",
       "  <thead>\n",
       "    <tr style=\"text-align: right;\">\n",
       "      <th></th>\n",
       "      <th>model</th>\n",
       "      <th>baseClock</th>\n",
       "      <th>maxboostClock</th>\n",
       "      <th>numThreads</th>\n",
       "      <th>platform</th>\n",
       "      <th>ps</th>\n",
       "    </tr>\n",
       "  </thead>\n",
       "  <tbody>\n",
       "    <tr>\n",
       "      <th>515</th>\n",
       "      <td>AMD Ryzen™ Threadripper™ PRO 5995WX</td>\n",
       "      <td>2.70</td>\n",
       "      <td>4.5</td>\n",
       "      <td>128.0</td>\n",
       "      <td>Desktop</td>\n",
       "      <td>921.6</td>\n",
       "    </tr>\n",
       "    <tr>\n",
       "      <th>510</th>\n",
       "      <td>AMD Ryzen™ Threadripper™ 3990X</td>\n",
       "      <td>2.90</td>\n",
       "      <td>4.3</td>\n",
       "      <td>128.0</td>\n",
       "      <td>Desktop</td>\n",
       "      <td>921.6</td>\n",
       "    </tr>\n",
       "    <tr>\n",
       "      <th>106</th>\n",
       "      <td>AMD Ryzen™ Threadripper™ PRO 3995WX</td>\n",
       "      <td>2.70</td>\n",
       "      <td>4.2</td>\n",
       "      <td>128.0</td>\n",
       "      <td>Desktop</td>\n",
       "      <td>883.2</td>\n",
       "    </tr>\n",
       "    <tr>\n",
       "      <th>55</th>\n",
       "      <td>AMD EPYC™ 7763</td>\n",
       "      <td>2.45</td>\n",
       "      <td>3.5</td>\n",
       "      <td>128.0</td>\n",
       "      <td>Server</td>\n",
       "      <td>761.6</td>\n",
       "    </tr>\n",
       "    <tr>\n",
       "      <th>482</th>\n",
       "      <td>AMD EPYC™ 7H12</td>\n",
       "      <td>2.60</td>\n",
       "      <td>3.3</td>\n",
       "      <td>128.0</td>\n",
       "      <td>Server</td>\n",
       "      <td>755.2</td>\n",
       "    </tr>\n",
       "    <tr>\n",
       "      <th>...</th>\n",
       "      <td>...</td>\n",
       "      <td>...</td>\n",
       "      <td>...</td>\n",
       "      <td>...</td>\n",
       "      <td>...</td>\n",
       "      <td>...</td>\n",
       "    </tr>\n",
       "    <tr>\n",
       "      <th>577</th>\n",
       "      <td>TL-56</td>\n",
       "      <td>1.80</td>\n",
       "      <td>NaN</td>\n",
       "      <td>NaN</td>\n",
       "      <td>Laptop</td>\n",
       "      <td>NaN</td>\n",
       "    </tr>\n",
       "    <tr>\n",
       "      <th>578</th>\n",
       "      <td>TL-60</td>\n",
       "      <td>2.00</td>\n",
       "      <td>NaN</td>\n",
       "      <td>2.0</td>\n",
       "      <td>Laptop</td>\n",
       "      <td>NaN</td>\n",
       "    </tr>\n",
       "    <tr>\n",
       "      <th>579</th>\n",
       "      <td>TL-64</td>\n",
       "      <td>2.20</td>\n",
       "      <td>NaN</td>\n",
       "      <td>2.0</td>\n",
       "      <td>Laptop</td>\n",
       "      <td>NaN</td>\n",
       "    </tr>\n",
       "    <tr>\n",
       "      <th>580</th>\n",
       "      <td>X1150</td>\n",
       "      <td>2.00</td>\n",
       "      <td>NaN</td>\n",
       "      <td>4.0</td>\n",
       "      <td>Server</td>\n",
       "      <td>NaN</td>\n",
       "    </tr>\n",
       "    <tr>\n",
       "      <th>581</th>\n",
       "      <td>X940</td>\n",
       "      <td>2.40</td>\n",
       "      <td>NaN</td>\n",
       "      <td>4.0</td>\n",
       "      <td>Laptop</td>\n",
       "      <td>NaN</td>\n",
       "    </tr>\n",
       "  </tbody>\n",
       "</table>\n",
       "<p>582 rows × 6 columns</p>\n",
       "</div>"
      ],
      "text/plain": [
       "                                   model  baseClock  maxboostClock  \\\n",
       "515  AMD Ryzen™ Threadripper™ PRO 5995WX       2.70            4.5   \n",
       "510       AMD Ryzen™ Threadripper™ 3990X       2.90            4.3   \n",
       "106  AMD Ryzen™ Threadripper™ PRO 3995WX       2.70            4.2   \n",
       "55                        AMD EPYC™ 7763       2.45            3.5   \n",
       "482                       AMD EPYC™ 7H12       2.60            3.3   \n",
       "..                                   ...        ...            ...   \n",
       "577                                TL-56       1.80            NaN   \n",
       "578                                TL-60       2.00            NaN   \n",
       "579                                TL-64       2.20            NaN   \n",
       "580                                X1150       2.00            NaN   \n",
       "581                                 X940       2.40            NaN   \n",
       "\n",
       "     numThreads platform     ps  \n",
       "515       128.0  Desktop  921.6  \n",
       "510       128.0  Desktop  921.6  \n",
       "106       128.0  Desktop  883.2  \n",
       "55        128.0   Server  761.6  \n",
       "482       128.0   Server  755.2  \n",
       "..          ...      ...    ...  \n",
       "577         NaN   Laptop    NaN  \n",
       "578         2.0   Laptop    NaN  \n",
       "579         2.0   Laptop    NaN  \n",
       "580         4.0   Server    NaN  \n",
       "581         4.0   Laptop    NaN  \n",
       "\n",
       "[582 rows x 6 columns]"
      ]
     },
     "execution_count": 158,
     "metadata": {},
     "output_type": "execute_result"
    }
   ],
   "source": [
    "# Create a new column: Performance Score = (baseClock + maxboostClock) * numThreads\n",
    "\n",
    "set2 = df[[\"model\", \"baseClock\", \"maxboostClock\", \"numThreads\", \"platform\"]]\n",
    "set2[\"ps\"] = (set2[\"baseClock\"] + set2[\"maxboostClock\"]) * set2[\"numThreads\"]\n",
    "set2.sort_values(\"ps\", ascending=False)"
   ]
  },
  {
   "cell_type": "markdown",
   "id": "4864401e-9bbe-4a89-9e8c-3d162cb071e2",
   "metadata": {},
   "source": [
    "## 9 Cache Analysis"
   ]
  },
  {
   "cell_type": "code",
   "execution_count": 34,
   "id": "1b23a6c2-94ff-4dfb-b19e-a80e8c723816",
   "metadata": {
    "execution": {
     "iopub.execute_input": "2025-08-08T14:02:14.203898Z",
     "iopub.status.busy": "2025-08-08T14:02:14.203394Z",
     "iopub.status.idle": "2025-08-08T14:02:14.210895Z",
     "shell.execute_reply": "2025-08-08T14:02:14.210028Z",
     "shell.execute_reply.started": "2025-08-08T14:02:14.203870Z"
    }
   },
   "outputs": [],
   "source": [
    "# converting cache in mb to kb\n",
    "mb_to_kb = df[[\"L1Cache\", \"L2Cache\", \"L3Cache\"]].fillna(0).apply(lambda x: x * 1024.00)\n",
    "# mb_to_kb"
   ]
  },
  {
   "cell_type": "markdown",
   "id": "0e27d54e-bcc8-46e2-8c13-fababe6ab28e",
   "metadata": {},
   "source": [
    "## 10 Top 5 Powerhouse CPUs (OverAll)"
   ]
  },
  {
   "cell_type": "code",
   "execution_count": 47,
   "id": "fe6ac97d-db04-420d-8bdb-fd924a09aeb8",
   "metadata": {
    "editable": true,
    "execution": {
     "iopub.execute_input": "2025-08-08T14:11:03.190298Z",
     "iopub.status.busy": "2025-08-08T14:11:03.189955Z",
     "iopub.status.idle": "2025-08-08T14:11:03.207560Z",
     "shell.execute_reply": "2025-08-08T14:11:03.206827Z",
     "shell.execute_reply.started": "2025-08-08T14:11:03.190274Z"
    },
    "slideshow": {
     "slide_type": ""
    },
    "tags": []
   },
   "outputs": [
    {
     "data": {
      "text/html": [
       "<div>\n",
       "<style scoped>\n",
       "    .dataframe tbody tr th:only-of-type {\n",
       "        vertical-align: middle;\n",
       "    }\n",
       "\n",
       "    .dataframe tbody tr th {\n",
       "        vertical-align: top;\n",
       "    }\n",
       "\n",
       "    .dataframe thead th {\n",
       "        text-align: right;\n",
       "    }\n",
       "</style>\n",
       "<table border=\"1\" class=\"dataframe\">\n",
       "  <thead>\n",
       "    <tr style=\"text-align: right;\">\n",
       "      <th></th>\n",
       "      <th>model</th>\n",
       "      <th>numThreads</th>\n",
       "      <th>L3Cache</th>\n",
       "      <th>maxboostClock</th>\n",
       "      <th>platform</th>\n",
       "      <th>launchDate</th>\n",
       "    </tr>\n",
       "  </thead>\n",
       "  <tbody>\n",
       "    <tr>\n",
       "      <th>41</th>\n",
       "      <td>AMD EPYC™ 73F3</td>\n",
       "      <td>32.0</td>\n",
       "      <td>256.0</td>\n",
       "      <td>4.0</td>\n",
       "      <td>Server</td>\n",
       "      <td>2021.0</td>\n",
       "    </tr>\n",
       "    <tr>\n",
       "      <th>43</th>\n",
       "      <td>AMD EPYC™ 7443</td>\n",
       "      <td>48.0</td>\n",
       "      <td>128.0</td>\n",
       "      <td>4.0</td>\n",
       "      <td>Server</td>\n",
       "      <td>2021.0</td>\n",
       "    </tr>\n",
       "    <tr>\n",
       "      <th>44</th>\n",
       "      <td>AMD EPYC™ 7443P</td>\n",
       "      <td>48.0</td>\n",
       "      <td>128.0</td>\n",
       "      <td>4.0</td>\n",
       "      <td>Server</td>\n",
       "      <td>2021.0</td>\n",
       "    </tr>\n",
       "    <tr>\n",
       "      <th>46</th>\n",
       "      <td>AMD EPYC™ 74F3</td>\n",
       "      <td>48.0</td>\n",
       "      <td>256.0</td>\n",
       "      <td>4.0</td>\n",
       "      <td>Server</td>\n",
       "      <td>2021.0</td>\n",
       "    </tr>\n",
       "    <tr>\n",
       "      <th>50</th>\n",
       "      <td>AMD EPYC™ 75F3</td>\n",
       "      <td>64.0</td>\n",
       "      <td>256.0</td>\n",
       "      <td>4.0</td>\n",
       "      <td>Server</td>\n",
       "      <td>2021.0</td>\n",
       "    </tr>\n",
       "  </tbody>\n",
       "</table>\n",
       "</div>"
      ],
      "text/plain": [
       "              model  numThreads  L3Cache  maxboostClock platform  launchDate\n",
       "41   AMD EPYC™ 73F3        32.0    256.0            4.0   Server      2021.0\n",
       "43   AMD EPYC™ 7443        48.0    128.0            4.0   Server      2021.0\n",
       "44  AMD EPYC™ 7443P        48.0    128.0            4.0   Server      2021.0\n",
       "46   AMD EPYC™ 74F3        48.0    256.0            4.0   Server      2021.0\n",
       "50   AMD EPYC™ 75F3        64.0    256.0            4.0   Server      2021.0"
      ]
     },
     "execution_count": 47,
     "metadata": {},
     "output_type": "execute_result"
    }
   ],
   "source": [
    "# Define \"powerhouse\" by:\n",
    "# Threads ≥ 32\n",
    "# L3 cache ≥ 64 MB\n",
    "# Boost clock ≥ 4.0 GHz\n",
    "# Show top 5 CPUs matching these specs sorted by launch date\n",
    "\n",
    "data_ph = df[[\"model\", \"numThreads\", \"L3Cache\", \"maxboostClock\", \"platform\", \"launchDate\"]]\n",
    "ans = data_ph[(data_ph[\"numThreads\"] >= 32) & (data_ph['L3Cache'] >= 64) & (data_ph['maxboostClock'] >= 4)]\n",
    "ans.sort_values(\"launchDate\", ascending=False).head(5)"
   ]
  },
  {
   "cell_type": "code",
   "execution_count": null,
   "id": "94cb67aa-454f-4f1f-a14b-7ff6e19a2f0a",
   "metadata": {},
   "outputs": [],
   "source": []
  }
 ],
 "metadata": {
  "kernelspec": {
   "display_name": "Python 3 (ipykernel)",
   "language": "python",
   "name": "python3"
  },
  "language_info": {
   "codemirror_mode": {
    "name": "ipython",
    "version": 3
   },
   "file_extension": ".py",
   "mimetype": "text/x-python",
   "name": "python",
   "nbconvert_exporter": "python",
   "pygments_lexer": "ipython3",
   "version": "3.12.3"
  }
 },
 "nbformat": 4,
 "nbformat_minor": 5
}
