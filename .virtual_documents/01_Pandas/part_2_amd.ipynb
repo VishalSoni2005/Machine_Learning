import pandas as pd
df = pd.read_csv("../Datasets/cpu/AMDfullspecs_adjusted.csv")
original_df = df
df


df.describe()


df.info()


df.columns





set1 = df[["model", "graphicsModel", "launchDate", "platform", "L1Cache", "L2Cache", "L3Cache"]]
set1[set1["graphicsModel"].isna()].shape


set1[set1["graphicsModel"].isna()][["model", "launchDate", "platform"]]


# cpu not having gpu and is for laptop
laptop_without_gpu = set1[set1['platform'].str.contains("Laptop", case=False, na=False)]
laptop_without_gpu



cpu_for_server = set1[set1["platform"].str.contains("Server")]
cpu_for_server


cpu_for_notebook = set1[set1["platform"].str.contains("Notebook")]
cpu_for_notebook

















launch_date = set1[["launchDate"]]
launch_date




















































































