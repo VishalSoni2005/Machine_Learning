import matplotlib.pyplot as plt
import pandas as pd
import numpy as np

x = np.round(np.linspace(1, 10, 200), 2)
x


y = np.round(np.sin(x), 2)
y


plt.plot(x, y)
plt.xlabel("X Axis")
plt.ylabel("Y Axis")
plt.title("First Graph")
plt.show()


color = np.random.rand(100)
a = np.random.rand(100)
b = np.random.rand(100)
size = 100 * np.random.rand(100)

plt.scatter(a, b, c = color, s = size)


m = ["vishal", "Aniket", "Parth", "Nikhil", "Braj"]
n = np.random.rand(5)
color = ["pink", "Blue", "green"]
plt.bar(m, n, color=color)

plt.title("Random Scores of Students")
plt.xlabel("Names")
plt.ylabel("Scores")

plt.grid(axis='y', linestyle='--', alpha=0.9)

# Display the chart
plt.show()


data = np.random.randn(1000)

# Plot histogram
plt.hist(data, bins=20, color='skyblue', edgecolor='black')

# Add title and labels
plt.title("Histogram of Random Data")
plt.xlabel("Value")
plt.ylabel("Frequency")

# Show the plot
plt.show()


import matplotlib.pyplot as plt
from mpl_toolkits.mplot3d import Axes3D
import numpy as np

# Generate data
x = np.linspace(-5, 5, 100)
y = np.linspace(-5, 5, 100)
x, y = np.meshgrid(x, y)
z = np.sin(np.sqrt(x**2 + y**2))

# Create 3D figure
fig = plt.figure()
ax = fig.add_subplot(111, projection='3d')

# Plot the surface
ax.plot_surface(x, y, z, cmap='viridis')

# Titles and labels
ax.set_title("3D Surface Plot")
ax.set_xlabel("X axis")
ax.set_ylabel("Y axis")
ax.set_zlabel("Z axis")

plt.show()




