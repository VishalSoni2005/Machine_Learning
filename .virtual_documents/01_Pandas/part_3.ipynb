import pandas as pd

df = pd.read_csv("../Datasets/titanic.csv")
# df.head()
original_df = df





df.drop("PassengerId", axis = 1, inplace = True) # axis 1 is for column and 0 is for row


# df # in place is used to change it from original dataset





df.drop(0, inplace = True) 


# df # oth index row deleted from data frame





df.set_index("Name", inplace = True)



# df


df.reset_index(inplace = True)





# df[df.isna().any(axis=1)]


# df.columns[df.isna().any()]
# df.isna()


# df.fillna("David Gogins", inplace = True)
# df





g = df.groupby("Survived")
g.first()  


g.sum()


g1 = df.groupby("Pclass")["Fare"]
g1.sum()


g1.max("Age")


g1.sum()
g1.mean().tolist()





# original_df
# data = original_df[["Pclass", "Fare"]]

# data["Fare_INR"] = df['Fare'].apply(lambda x : x * 80)
# data["Fare_INR"].groupby("Pclass").mean()

# Step 1: Create a clean working copy
data = original_df[["Pclass", "Fare"]].copy()

# Step 2: Convert Fare to INR
data["Fare_INR"] = data['Fare'].apply(lambda x: x * 80)

# Step 3: Group by Pclass and take average INR fare
result = data.groupby("Pclass")[["Fare", "Fare_INR"]]

result.first() 







original_df



agg_df = original_df[["Pclass", "Sex", "Fare", "Age"]]
agg_df


def Aukad(x):
    if(x <= 10) : 
        return "Garib"
    elif(x > 10 and x < 50) :
        return "Middle Class"
    else :
        return "Reptilian"

agg_df["Human_Status"] = agg_df["Fare"].apply(Aukad)
agg_df













